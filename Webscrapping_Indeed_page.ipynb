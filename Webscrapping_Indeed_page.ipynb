{
  "nbformat": 4,
  "nbformat_minor": 0,
  "metadata": {
    "colab": {
      "name": "Webscrapping Indeed page",
      "provenance": []
    },
    "kernelspec": {
      "name": "python3",
      "display_name": "Python 3"
    }
  },
  "cells": [
    {
      "cell_type": "markdown",
      "metadata": {
        "id": "cyscexdJAn_D",
        "colab_type": "text"
      },
      "source": [
        "# Webscrapping data information from Indeed about Data Scientists jobs in São Paulo"
      ]
    },
    {
      "cell_type": "code",
      "metadata": {
        "id": "COlPhZtDAy0K",
        "colab_type": "code",
        "colab": {
          "base_uri": "https://localhost:8080/",
          "height": 102
        },
        "outputId": "1e77cdbd-230b-4821-c7fe-c705a8dfc7c3"
      },
      "source": [
        "#Importing the libraries and adapting the results the way we want it! :) \n",
        "import requests\n",
        "import bs4\n",
        "from bs4 import BeautifulSoup\n",
        "import pandas as pd\n",
        "import time\n",
        "import collections\n",
        "pd.set_option('max_rows', 99999) #That\n",
        "pd.set_option('max_colwidth', 400)\n",
        "pd.describe_option('max_colwidth')"
      ],
      "execution_count": 1,
      "outputs": [
        {
          "output_type": "stream",
          "text": [
            "display.max_colwidth : int or None\n",
            "    The maximum width in characters of a column in the repr of\n",
            "    a pandas data structure. When the column overflows, a \"...\"\n",
            "    placeholder is embedded in the output. A 'None' value means unlimited.\n",
            "    [default: 50] [currently: 400]\n"
          ],
          "name": "stdout"
        }
      ]
    },
    {
      "cell_type": "markdown",
      "metadata": {
        "id": "0CPkDG8-BJsT",
        "colab_type": "text"
      },
      "source": [
        ""
      ]
    },
    {
      "cell_type": "code",
      "metadata": {
        "id": "4FcuPBI9BKSZ",
        "colab_type": "code",
        "colab": {}
      },
      "source": [
        "URL = 'https://www.indeed.com.br/empregos?q=data+scientist&l=Brasil'\n",
        "#conducting a request of the stated URL above:\n",
        "page = requests.get(URL)\n",
        "#specifying a desired format of “page” using the html parser - this allows python to read the various components of the page, rather than treating it as one long string.\n",
        "soup = BeautifulSoup(page.text, 'html.parser')\n",
        "#printing soup in a more structured tree format that makes for easier reading\n",
        "print(soup.prettify())"
      ],
      "execution_count": null,
      "outputs": []
    },
    {
      "cell_type": "markdown",
      "metadata": {
        "id": "y7vnVnr2B6P-",
        "colab_type": "text"
      },
      "source": [
        "Now It's time to get **all** the data you want!"
      ]
    },
    {
      "cell_type": "code",
      "metadata": {
        "id": "83O_18cRB29W",
        "colab_type": "code",
        "colab": {}
      },
      "source": [
        "#Selecting the main information of jobs\n",
        "jobs=soup.find(class_='result') #First of all, you need to get the big area of the desired topic, which is the class ''result''\n",
        "print(jobs)"
      ],
      "execution_count": null,
      "outputs": []
    },
    {
      "cell_type": "code",
      "metadata": {
        "id": "kHiIwJrECerR",
        "colab_type": "code",
        "colab": {
          "base_uri": "https://localhost:8080/",
          "height": 34
        },
        "outputId": "a6a98d00-1d51-4af9-cfa1-ea10f0fc49eb"
      },
      "source": [
        "titles=jobs.h2.text.strip()\n",
        "print(titles)"
      ],
      "execution_count": 27,
      "outputs": [
        {
          "output_type": "stream",
          "text": [
            "Applied Data Scientist\n"
          ],
          "name": "stdout"
        }
      ]
    },
    {
      "cell_type": "code",
      "metadata": {
        "id": "8VyCUxI5DF-7",
        "colab_type": "code",
        "colab": {
          "base_uri": "https://localhost:8080/",
          "height": 34
        },
        "outputId": "5e9c6e06-d67d-4564-9e3f-be58ef9d66d9"
      },
      "source": [
        "#Selecting the company \n",
        "company=jobs.span.text.strip()\n",
        "print(company)"
      ],
      "execution_count": 28,
      "outputs": [
        {
          "output_type": "stream",
          "text": [
            "dunnhumby\n"
          ],
          "name": "stdout"
        }
      ]
    },
    {
      "cell_type": "code",
      "metadata": {
        "id": "2q4FD9FADNgz",
        "colab_type": "code",
        "colab": {
          "base_uri": "https://localhost:8080/",
          "height": 34
        },
        "outputId": "c5892ecb-5bed-4625-d9be-f4ce021d7cba"
      },
      "source": [
        "#Selecting the location\n",
        "location=jobs.find('span',class_='location').text.strip()\n",
        "print(location)"
      ],
      "execution_count": 29,
      "outputs": [
        {
          "output_type": "stream",
          "text": [
            "São Paulo, SP\n"
          ],
          "name": "stdout"
        }
      ]
    },
    {
      "cell_type": "code",
      "metadata": {
        "id": "5KBTuhTgDTOy",
        "colab_type": "code",
        "colab": {
          "base_uri": "https://localhost:8080/",
          "height": 34
        },
        "outputId": "efdfea95-dd82-4a36-f4d9-cbb3b41b71d4"
      },
      "source": [
        "#Finally selecting the summary!\n",
        "summary=jobs.find('div',class_='summary').text.strip()\n",
        "print(summary)"
      ],
      "execution_count": 30,
      "outputs": [
        {
          "output_type": "stream",
          "text": [
            "Some experience with programming, and the ability to quickly pick up handling large data volumes with modern data processing tools, e.g. by using Hadoop / Spark…\n"
          ],
          "name": "stdout"
        }
      ]
    },
    {
      "cell_type": "markdown",
      "metadata": {
        "id": "0zXyviICB53v",
        "colab_type": "text"
      },
      "source": [
        "Well done!You managed to get the single information from the website. But now we need to face the goal of the project: get all the information about data scientist jobs from the page!"
      ]
    },
    {
      "cell_type": "code",
      "metadata": {
        "id": "jnrGN-KcDjtx",
        "colab_type": "code",
        "colab": {
          "base_uri": "https://localhost:8080/",
          "height": 187
        },
        "outputId": "049d07b7-2365-4ec8-f0cd-3e9c0954a504"
      },
      "source": [
        "#Function to find all the job titles in the page \n",
        "def extract_job_title_from_result(soup): \n",
        "  jobs_list = []\n",
        "  for div in soup.find_all(name='div', attrs={'class':'row'}):\n",
        "    for a in div.find_all(name='a', attrs={'data-tn-element':'jobTitle'}):\n",
        "      jobs_list.append(a['title'])\n",
        "  return(jobs_list)\n",
        "extract_job_title_from_result(soup)"
      ],
      "execution_count": 31,
      "outputs": [
        {
          "output_type": "execute_result",
          "data": {
            "text/plain": [
              "['Applied Data Scientist',\n",
              " 'Data Scientist en Vie Brésil (H/F)',\n",
              " 'Data Scientist',\n",
              " 'Data Scientist',\n",
              " 'Data Scientist',\n",
              " 'Researcher Specialist (Data Scientist)',\n",
              " 'Data Scientist',\n",
              " 'Data Scientist - Plataform',\n",
              " 'Data Scientist - Portfolio Strategy',\n",
              " 'Data Scientist/Big Data']"
            ]
          },
          "metadata": {
            "tags": []
          },
          "execution_count": 31
        }
      ]
    },
    {
      "cell_type": "code",
      "metadata": {
        "id": "58xkDdUvEyEj",
        "colab_type": "code",
        "colab": {}
      },
      "source": [
        "#Function to find the companies\n",
        "def extract_company_title_from_result(soup): \n",
        "  companys=soup.find_all('span', class_='company')\n",
        "  for company in companys:\n",
        "    print(companys)"
      ],
      "execution_count": 85,
      "outputs": []
    },
    {
      "cell_type": "code",
      "metadata": {
        "id": "gTlK944kGjGz",
        "colab_type": "code",
        "colab": {
          "base_uri": "https://localhost:8080/",
          "height": 187
        },
        "outputId": "73bf2dc9-591f-4a16-e799-04bbd5aeaf13"
      },
      "source": [
        "#Function to find the location \n",
        "def extract_location_from_result(soup): \n",
        "  locations = []\n",
        "  spans = soup.findAll('span', attrs={'class': 'location'})\n",
        "  for span in spans:\n",
        "    locations.append(span.text)\n",
        "  return(locations)\n",
        "extract_location_from_result(soup)"
      ],
      "execution_count": 49,
      "outputs": [
        {
          "output_type": "execute_result",
          "data": {
            "text/plain": [
              "['São Paulo, SP',\n",
              " 'São Paulo, SP',\n",
              " 'São Paulo, SP',\n",
              " 'São Paulo, SP',\n",
              " 'Florianópolis, SC',\n",
              " 'Campinas, SP',\n",
              " 'Barueri, SP',\n",
              " 'São Paulo, SP',\n",
              " 'São Paulo, SP',\n",
              " 'São Carlos, SP']"
            ]
          },
          "metadata": {
            "tags": []
          },
          "execution_count": 49
        }
      ]
    },
    {
      "cell_type": "code",
      "metadata": {
        "id": "hYRcueslGpZf",
        "colab_type": "code",
        "colab": {
          "base_uri": "https://localhost:8080/",
          "height": 207
        },
        "outputId": "9d48c1af-811b-49ec-addd-cf5127e85cd4"
      },
      "source": [
        "#Summary\n",
        "def extract_summary_from_result(soup): \n",
        "  summary = []\n",
        "  divs = soup.findAll('div', attrs={'class': 'summary'})\n",
        "  for div in divs:\n",
        "    summary.append(div.text.strip().replace(\"\\n\", \"\")) #This is good to remove the '\\n' of the page\n",
        "  return(summary)\n",
        "extract_summary_from_result(soup)"
      ],
      "execution_count": 104,
      "outputs": [
        {
          "output_type": "execute_result",
          "data": {
            "text/plain": [
              "['Some experience with programming, and the ability to quickly pick up handling large data volumes with modern data processing tools, e.g. by using Hadoop / Spark…',\n",
              " 'Accompagner nos clients dans la formalisation de leurs besoins métier sous forme de problématiques Data Science claires et réalisables.Durée : 12 à 24 mois.',\n",
              " 'O Zé está construindo todos os dias a maior e melhor plataforma de entrega de bebidas do Brasil, com o serviço mais rápido e confiável do mercado.',\n",
              " 'Desire to develop as a data scientist.Working in teams, together with senior data scientists, data analytics specialists, designers and medical doctors, you…',\n",
              " 'Aplicar algoritmos de data mining em conjunto de dados para resolver diferentes problemas ou análises exploratórias.Como será seu dia a dia:',\n",
              " 'Organize data in order to guarantee high quality data for AI algorithms.Experience with data analysis for a high volume of data;',\n",
              " 'Cada vez mais data-driven.Estamos buscando profissionais de Data Science com experiência em transformar grandes quantidades.Exemplos: Python, R, Scala, SAS;',\n",
              " 'Procuramos por um profissional com uma postura positiva e grande senso analítico.Será responsável por ajudar a desenvolver a Área de Analytics voltada para o…',\n",
              " 'Challenge the status quo and uses data to inform your decisions;We aim to provide freedom living for all your different life moments.Our plans for the future!',\n",
              " 'A Monitora é uma empresa de tecnologia que conta com um ambiente descontraído e acolhedor.Procuramos por pessoas que gostem da ideia de aprender algo novo…']"
            ]
          },
          "metadata": {
            "tags": []
          },
          "execution_count": 104
        }
      ]
    },
    {
      "cell_type": "markdown",
      "metadata": {
        "id": "2hJAZTIrG79I",
        "colab_type": "text"
      },
      "source": [
        "Now lets put all that information in lists! "
      ]
    },
    {
      "cell_type": "code",
      "metadata": {
        "id": "qAvpeTVMHCVa",
        "colab_type": "code",
        "colab": {}
      },
      "source": [
        "title_list=list(extract_job_title_from_result(soup))\n",
        "location_list=list(extract_location_from_result(soup))\n",
        "company_list=list(extract_company_title_from_result(soup))\n",
        "summary_list=list(extract_summary_from_result(soup))"
      ],
      "execution_count": null,
      "outputs": []
    },
    {
      "cell_type": "code",
      "metadata": {
        "id": "rCmFYNQmIA4y",
        "colab_type": "code",
        "colab": {
          "base_uri": "https://localhost:8080/",
          "height": 258
        },
        "outputId": "1305e5df-a1c0-46a7-b0e6-0c583c4c3894"
      },
      "source": [
        "indeed_jobs = pd.DataFrame({'job title':title_list,'location':location_list,'company':company,'summary':summary_list})\n",
        "print(indeed_jobs)"
      ],
      "execution_count": 96,
      "outputs": [
        {
          "output_type": "stream",
          "text": [
            "                                job title  ...                                                                                                                                                            summary\n",
            "0                  Applied Data Scientist  ...  Some experience with programming, and the ability to quickly pick up handling large data volumes with modern data processing tools, e.g. by using Hadoop / Spark…\n",
            "1      Data Scientist en Vie Brésil (H/F)  ...       Accompagner nos clients dans la formalisation de leurs besoins métier sous forme de problématiques Data Science claires et réalisables.Durée : 12 à 24 mois.\n",
            "2                          Data Scientist  ...                 O Zé está construindo todos os dias a maior e melhor plataforma de entrega de bebidas do Brasil, com o serviço mais rápido e confiável do mercado.\n",
            "3                          Data Scientist  ...      Desire to develop as a data scientist.Working in teams, together with senior data scientists, data analytics specialists, designers and medical doctors, you…\n",
            "4                          Data Scientist  ...                       Aplicar algoritmos de data mining em conjunto de dados para resolver diferentes problemas ou análises exploratórias.Como será seu dia a dia:\n",
            "5  Researcher Specialist (Data Scientist)  ...                                   Organize data in order to guarantee high quality data for AI algorithms.Experience with data analysis for a high volume of data;\n",
            "6                          Data Scientist  ...       Cada vez mais data-driven.Estamos buscando profissionais de Data Science com experiência em transformar grandes quantidades.Exemplos: Python, R, Scala, SAS;\n",
            "7              Data Scientist - Plataform  ...     Procuramos por um profissional com uma postura positiva e grande senso analítico.Será responsável por ajudar a desenvolver a Área de Analytics voltada para o…\n",
            "8     Data Scientist - Portfolio Strategy  ...     Challenge the status quo and uses data to inform your decisions;We aim to provide freedom living for all your different life moments.Our plans for the future!\n",
            "9                 Data Scientist/Big Data  ...        A Monitora é uma empresa de tecnologia que conta com um ambiente descontraído e acolhedor.Procuramos por pessoas que gostem da ideia de aprender algo novo…\n",
            "\n",
            "[10 rows x 4 columns]\n"
          ],
          "name": "stdout"
        }
      ]
    },
    {
      "cell_type": "code",
      "metadata": {
        "id": "a8wpp1tqMfTL",
        "colab_type": "code",
        "colab": {
          "base_uri": "https://localhost:8080/",
          "height": 54
        },
        "outputId": "2afaf5a5-5700-4027-ac77-756f935cfde8"
      },
      "source": [
        "summary_complete=extract_summary_from_result(soup)\n",
        "print(summary_complete)"
      ],
      "execution_count": 107,
      "outputs": [
        {
          "output_type": "stream",
          "text": [
            "['Some experience with programming, and the ability to quickly pick up handling large data volumes with modern data processing tools, e.g. by using Hadoop / Spark…', 'Accompagner nos clients dans la formalisation de leurs besoins métier sous forme de problématiques Data Science claires et réalisables.Durée : 12 à 24 mois.', 'O Zé está construindo todos os dias a maior e melhor plataforma de entrega de bebidas do Brasil, com o serviço mais rápido e confiável do mercado.', 'Desire to develop as a data scientist.Working in teams, together with senior data scientists, data analytics specialists, designers and medical doctors, you…', 'Aplicar algoritmos de data mining em conjunto de dados para resolver diferentes problemas ou análises exploratórias.Como será seu dia a dia:', 'Organize data in order to guarantee high quality data for AI algorithms.Experience with data analysis for a high volume of data;', 'Cada vez mais data-driven.Estamos buscando profissionais de Data Science com experiência em transformar grandes quantidades.Exemplos: Python, R, Scala, SAS;', 'Procuramos por um profissional com uma postura positiva e grande senso analítico.Será responsável por ajudar a desenvolver a Área de Analytics voltada para o…', 'Challenge the status quo and uses data to inform your decisions;We aim to provide freedom living for all your different life moments.Our plans for the future!', 'A Monitora é uma empresa de tecnologia que conta com um ambiente descontraído e acolhedor.Procuramos por pessoas que gostem da ideia de aprender algo novo…']\n"
          ],
          "name": "stdout"
        }
      ]
    }
  ]
}